{
 "cells": [
  {
   "cell_type": "code",
   "execution_count": 3,
   "metadata": {},
   "outputs": [
    {
     "name": "stderr",
     "output_type": "stream",
     "text": [
      "/Library/Frameworks/Python.framework/Versions/3.10/lib/python3.10/site-packages/tqdm/auto.py:22: TqdmWarning: IProgress not found. Please update jupyter and ipywidgets. See https://ipywidgets.readthedocs.io/en/stable/user_install.html\n",
      "  from .autonotebook import tqdm as notebook_tqdm\n"
     ]
    }
   ],
   "source": [
    "import torch\n",
    "import torch.nn as nn\n",
    "import torch.optim as optim\n",
    "\n",
    "import torchvision\n",
    "from torchvision import datasets\n",
    "\n",
    "from tqdm import trange"
   ]
  },
  {
   "cell_type": "code",
   "execution_count": 4,
   "metadata": {},
   "outputs": [],
   "source": [
    "encoding_dim = 2\n",
    "input_dim = 28*28\n",
    "label_dim = 10\n",
    "batch_size = 512\n",
    "epochs = 100\n",
    "discriminator_multiplier = .1\n",
    "\n",
    "generator_layers = [input_dim, 512, 512, encoding_dim]\n",
    "discriminator_layers = [encoding_dim, 512, 512, 512, 512, 1]"
   ]
  },
  {
   "cell_type": "code",
   "execution_count": 5,
   "metadata": {},
   "outputs": [],
   "source": [
    "class Encoder(nn.Module):\n",
    "    def __init__(self, layers):\n",
    "        super().__init__()\n",
    "        self.layers = nn.ModuleList()\n",
    "        for i in range(len(layers)-1):\n",
    "            self.layers.append(nn.Linear(layers[i], layers[i+1]))\n",
    "    def forward(self, x):\n",
    "        for i, layer in enumerate(self.layers):\n",
    "            if i == len(self.layers)-1:\n",
    "                return layer(x)\n",
    "            else:\n",
    "                x = torch.relu(layer(x))"
   ]
  },
  {
   "cell_type": "code",
   "execution_count": 6,
   "metadata": {},
   "outputs": [],
   "source": [
    "class Decoder(nn.Module):\n",
    "    def __init__(self, layers):\n",
    "        super().__init__()\n",
    "        self.layers = nn.ModuleList()\n",
    "        for i in range(len(layers)-1):\n",
    "            self.layers.append(nn.Linear(layers[-i-1], layers[-i-2]))\n",
    "    def forward(self, x):\n",
    "        for i, layer in enumerate(self.layers):\n",
    "            if i == len(self.layers)-1:\n",
    "                return torch.sigmoid(layer(x))\n",
    "            else:\n",
    "                x = torch.relu(layer(x))"
   ]
  },
  {
   "cell_type": "code",
   "execution_count": 7,
   "metadata": {},
   "outputs": [],
   "source": [
    "class AE(nn.Module):\n",
    "    def __init__(self, layers):\n",
    "        super().__init__()\n",
    "        self.encoder = Encoder(layers)\n",
    "        self.decoder = Decoder(layers)\n",
    "    def forward(self, x):\n",
    "        encoded = self.encoder(x)\n",
    "        reconstructed = self.decoder(encoded)\n",
    "        return encoded, reconstructed"
   ]
  },
  {
   "cell_type": "code",
   "execution_count": 8,
   "metadata": {},
   "outputs": [],
   "source": [
    "class Discriminator(nn.Module):\n",
    "    def __init__(self, layers):\n",
    "        super().__init__()\n",
    "        self.layers = nn.ModuleList()\n",
    "        for i in range(len(layers)-1):\n",
    "            self.layers.append(nn.Linear(layers[i], layers[i+1]))\n",
    "    def forward(self, x):\n",
    "        for i, layer in enumerate(self.layers):\n",
    "            if i == len(self.layers)-1:\n",
    "                return torch.sigmoid(layer(x))\n",
    "            else:\n",
    "                x = torch.relu(layer(x))"
   ]
  },
  {
   "cell_type": "code",
   "execution_count": 9,
   "metadata": {},
   "outputs": [],
   "source": [
    "# Datasets\n",
    "transform = torchvision.transforms.Compose([torchvision.transforms.ToTensor()])\n",
    "\n",
    "train_dataset = datasets.MNIST(\n",
    "   root=\"./mnist\",\n",
    "   train=True,\n",
    "   transform=transform,\n",
    "   download=True,\n",
    ")\n",
    "\n",
    "test_dataset = datasets.MNIST(\n",
    "   root=\"./mnist\",\n",
    "   train=False,\n",
    "   transform=transform,\n",
    "   download=True,\n",
    ")\n",
    "\n",
    "train_loader = torch.utils.data.DataLoader(\n",
    "    train_dataset, batch_size=batch_size, shuffle=True, pin_memory=True\n",
    ")\n",
    "\n",
    "test_loader = torch.utils.data.DataLoader(\n",
    "    test_dataset, batch_size=batch_size, shuffle=False\n",
    ")"
   ]
  },
  {
   "cell_type": "code",
   "execution_count": 10,
   "metadata": {},
   "outputs": [],
   "source": [
    "generator = AE(generator_layers)\n",
    "discriminator = Discriminator(discriminator_layers)\n",
    "\n",
    "device = torch.device(\"cuda\" if torch.cuda.is_available() else \"cpu\")\n",
    "generator.to(device)\n",
    "discriminator.to(device)\n",
    "\n",
    "lr = 1e-3\n",
    "generator_optimizer = optim.Adam(generator.parameters(), lr=lr)\n",
    "discriminator_optimizer = optim.Adam(discriminator.parameters(), lr=lr)\n",
    "\n",
    "generator_loss_function = nn.MSELoss()\n",
    "discriminator_loss_function = nn.BCELoss()"
   ]
  },
  {
   "cell_type": "code",
   "execution_count": 11,
   "metadata": {},
   "outputs": [],
   "source": [
    "def valid(size):\n",
    "    return torch.ones([size, 1]).to(device)\n",
    "\n",
    "\n",
    "def invalid(size):\n",
    "    return torch.zeros([size, 1]).to(device)\n",
    "\n",
    "\n",
    "def real_distribution(size):\n",
    "    return torch.normal(0, 2, size=(size, encoding_dim)).to(device)"
   ]
  },
  {
   "cell_type": "code",
   "execution_count": 893,
   "metadata": {},
   "outputs": [
    {
     "name": "stderr",
     "output_type": "stream",
     "text": [
      "  0%|          | 0/100 [00:00<?, ?it/s]"
     ]
    },
    {
     "name": "stdout",
     "output_type": "stream",
     "text": [
      "Epoch 1\n"
     ]
    },
    {
     "name": "stderr",
     "output_type": "stream",
     "text": [
      "  1%|          | 1/100 [00:21<35:20, 21.42s/it]"
     ]
    },
    {
     "name": "stdout",
     "output_type": "stream",
     "text": [
      "Generator Loss: 0.4358077305605856, Discriminator Loss: 0.3675826660404771\n",
      "sub_reconstruction: 0.07155719146890155, sub_discriminator, 0.36425053877598146\n",
      "Epoch 2\n"
     ]
    },
    {
     "name": "stderr",
     "output_type": "stream",
     "text": [
      "  2%|▏         | 2/100 [00:29<22:12, 13.59s/it]"
     ]
    },
    {
     "name": "stdout",
     "output_type": "stream",
     "text": [
      "Generator Loss: 0.27162865170482864, Discriminator Loss: 0.6984300057766801\n",
      "sub_reconstruction: 0.06017743183647172, sub_discriminator, 0.2114512204366215\n",
      "Epoch 3\n"
     ]
    },
    {
     "name": "stderr",
     "output_type": "stream",
     "text": [
      "  3%|▎         | 3/100 [00:37<17:47, 11.01s/it]"
     ]
    },
    {
     "name": "stdout",
     "output_type": "stream",
     "text": [
      "Generator Loss: 0.1672883465633554, Discriminator Loss: 1.0797366065494085\n",
      "sub_reconstruction: 0.05540368734401161, sub_discriminator, 0.11188465925091404\n",
      "Epoch 4\n"
     ]
    },
    {
     "name": "stderr",
     "output_type": "stream",
     "text": [
      "  4%|▍         | 4/100 [00:45<15:43,  9.83s/it]"
     ]
    },
    {
     "name": "stdout",
     "output_type": "stream",
     "text": [
      "Generator Loss: 0.12444340342939911, Discriminator Loss: 1.3669495855347584\n",
      "sub_reconstruction: 0.052373336628079414, sub_discriminator, 0.07207006689603046\n",
      "Epoch 5\n"
     ]
    },
    {
     "name": "stderr",
     "output_type": "stream",
     "text": [
      "  5%|▌         | 5/100 [00:53<14:34,  9.20s/it]"
     ]
    },
    {
     "name": "stdout",
     "output_type": "stream",
     "text": [
      "Generator Loss: 0.12282139334385678, Discriminator Loss: 1.3785776556548426\n",
      "sub_reconstruction: 0.05192344780948203, sub_discriminator, 0.0708979459447881\n",
      "Epoch 6\n"
     ]
    },
    {
     "name": "stderr",
     "output_type": "stream",
     "text": [
      "  6%|▌         | 6/100 [01:01<13:46,  8.79s/it]"
     ]
    },
    {
     "name": "stdout",
     "output_type": "stream",
     "text": [
      "Generator Loss: 0.12074928737040293, Discriminator Loss: 1.38231395462812\n",
      "sub_reconstruction: 0.050482268745111206, sub_discriminator, 0.07026701837272967\n",
      "Epoch 7\n"
     ]
    },
    {
     "name": "stderr",
     "output_type": "stream",
     "text": [
      "  7%|▋         | 7/100 [01:09<13:14,  8.54s/it]"
     ]
    },
    {
     "name": "stdout",
     "output_type": "stream",
     "text": [
      "Generator Loss: 0.11983632769877628, Discriminator Loss: 1.386512298705214\n",
      "sub_reconstruction: 0.04942713400064889, sub_discriminator, 0.07040919382440841\n",
      "Epoch 8\n"
     ]
    },
    {
     "name": "stderr",
     "output_type": "stream",
     "text": [
      "  8%|▊         | 8/100 [01:17<12:48,  8.35s/it]"
     ]
    },
    {
     "name": "stdout",
     "output_type": "stream",
     "text": [
      "Generator Loss: 0.11836364707451756, Discriminator Loss: 1.3858024791135626\n",
      "sub_reconstruction: 0.04848368289106983, sub_discriminator, 0.06987996399402618\n",
      "Epoch 9\n"
     ]
    },
    {
     "name": "stderr",
     "output_type": "stream",
     "text": [
      "  9%|▉         | 9/100 [01:25<12:34,  8.29s/it]"
     ]
    },
    {
     "name": "stdout",
     "output_type": "stream",
     "text": [
      "Generator Loss: 0.11739178450178292, Discriminator Loss: 1.385542878660105\n",
      "sub_reconstruction: 0.047928082740913, sub_discriminator, 0.06946370195029146\n",
      "Epoch 10\n"
     ]
    },
    {
     "name": "stderr",
     "output_type": "stream",
     "text": [
      " 10%|█         | 10/100 [01:34<12:52,  8.59s/it]"
     ]
    },
    {
     "name": "stdout",
     "output_type": "stream",
     "text": [
      "Generator Loss: 0.11726875306438592, Discriminator Loss: 1.3855185145038669\n",
      "sub_reconstruction: 0.0475392770653559, sub_discriminator, 0.06972947609374079\n",
      "Epoch 11\n"
     ]
    },
    {
     "name": "stderr",
     "output_type": "stream",
     "text": [
      " 11%|█         | 11/100 [01:45<13:26,  9.07s/it]"
     ]
    },
    {
     "name": "stdout",
     "output_type": "stream",
     "text": [
      "Generator Loss: 0.11634707147792234, Discriminator Loss: 1.3848974260233216\n",
      "sub_reconstruction: 0.04686425253748894, sub_discriminator, 0.06948281868787134\n",
      "Epoch 12\n"
     ]
    },
    {
     "name": "stderr",
     "output_type": "stream",
     "text": [
      " 12%|█▏        | 12/100 [01:55<14:00,  9.55s/it]"
     ]
    },
    {
     "name": "stdout",
     "output_type": "stream",
     "text": [
      "Generator Loss: 0.11561733332730956, Discriminator Loss: 1.385696017136008\n",
      "sub_reconstruction: 0.046235887681023546, sub_discriminator, 0.06938144589884807\n",
      "Epoch 13\n"
     ]
    },
    {
     "name": "stderr",
     "output_type": "stream",
     "text": [
      " 13%|█▎        | 13/100 [02:10<16:13, 11.19s/it]"
     ]
    },
    {
     "name": "stdout",
     "output_type": "stream",
     "text": [
      "Generator Loss: 0.11506388184882826, Discriminator Loss: 1.3854732210353269\n",
      "sub_reconstruction: 0.045615238405890386, sub_discriminator, 0.06944864350607839\n",
      "Epoch 14\n"
     ]
    },
    {
     "name": "stderr",
     "output_type": "stream",
     "text": [
      " 14%|█▍        | 14/100 [02:22<16:05, 11.23s/it]"
     ]
    },
    {
     "name": "stdout",
     "output_type": "stream",
     "text": [
      "Generator Loss: 0.1150565761757099, Discriminator Loss: 1.385595576237824\n",
      "sub_reconstruction: 0.04516977362208447, sub_discriminator, 0.06988680249048491\n",
      "Epoch 15\n"
     ]
    },
    {
     "name": "stderr",
     "output_type": "stream",
     "text": [
      " 15%|█▌        | 15/100 [02:30<14:42, 10.38s/it]"
     ]
    },
    {
     "name": "stdout",
     "output_type": "stream",
     "text": [
      "Generator Loss: 0.11372278996948469, Discriminator Loss: 1.3839151818873519\n",
      "sub_reconstruction: 0.04458143309516422, sub_discriminator, 0.06914135630605585\n",
      "Epoch 16\n"
     ]
    },
    {
     "name": "stderr",
     "output_type": "stream",
     "text": [
      " 16%|█▌        | 16/100 [02:38<13:33,  9.69s/it]"
     ]
    },
    {
     "name": "stdout",
     "output_type": "stream",
     "text": [
      "Generator Loss: 0.11399142658811505, Discriminator Loss: 1.3852109414035991\n",
      "sub_reconstruction: 0.044374050256811966, sub_discriminator, 0.06961737655229487\n",
      "Epoch 17\n"
     ]
    },
    {
     "name": "stderr",
     "output_type": "stream",
     "text": [
      " 17%|█▋        | 17/100 [02:46<12:51,  9.29s/it]"
     ]
    },
    {
     "name": "stdout",
     "output_type": "stream",
     "text": [
      "Generator Loss: 0.11370849830366797, Discriminator Loss: 1.3843449647143735\n",
      "sub_reconstruction: 0.04390693023422007, sub_discriminator, 0.0698015678484561\n",
      "Epoch 18\n"
     ]
    },
    {
     "name": "stderr",
     "output_type": "stream",
     "text": [
      " 18%|█▊        | 18/100 [02:55<12:12,  8.93s/it]"
     ]
    },
    {
     "name": "stdout",
     "output_type": "stream",
     "text": [
      "Generator Loss: 0.11362052456302157, Discriminator Loss: 1.3857178071797904\n",
      "sub_reconstruction: 0.04388657234356565, sub_discriminator, 0.0697339523141667\n",
      "Epoch 19\n"
     ]
    },
    {
     "name": "stderr",
     "output_type": "stream",
     "text": [
      " 19%|█▉        | 19/100 [03:03<12:02,  8.92s/it]"
     ]
    },
    {
     "name": "stdout",
     "output_type": "stream",
     "text": [
      "Generator Loss: 0.1136075874506417, Discriminator Loss: 1.3854977185443296\n",
      "sub_reconstruction: 0.04358171450637155, sub_discriminator, 0.07002587256542707\n",
      "Epoch 20\n"
     ]
    },
    {
     "name": "stderr",
     "output_type": "stream",
     "text": [
      " 20%|██        | 20/100 [03:12<11:46,  8.83s/it]"
     ]
    },
    {
     "name": "stdout",
     "output_type": "stream",
     "text": [
      "Generator Loss: 0.11332150555010569, Discriminator Loss: 1.3841000259932825\n",
      "sub_reconstruction: 0.04334209275321435, sub_discriminator, 0.06997941251275903\n",
      "Epoch 21\n"
     ]
    },
    {
     "name": "stderr",
     "output_type": "stream",
     "text": [
      " 21%|██        | 21/100 [03:24<12:42,  9.65s/it]"
     ]
    },
    {
     "name": "stdout",
     "output_type": "stream",
     "text": [
      "Generator Loss: 0.11242874257140241, Discriminator Loss: 1.3845252627033298\n",
      "sub_reconstruction: 0.04262452057988967, sub_discriminator, 0.06980422240192607\n",
      "Epoch 22\n"
     ]
    },
    {
     "name": "stderr",
     "output_type": "stream",
     "text": [
      " 22%|██▏       | 22/100 [03:32<12:11,  9.37s/it]"
     ]
    },
    {
     "name": "stdout",
     "output_type": "stream",
     "text": [
      "Generator Loss: 0.11220423220577887, Discriminator Loss: 1.3848288049132138\n",
      "sub_reconstruction: 0.04244604406846782, sub_discriminator, 0.06975818810574079\n",
      "Epoch 23\n"
     ]
    },
    {
     "name": "stderr",
     "output_type": "stream",
     "text": [
      " 23%|██▎       | 23/100 [03:41<11:39,  9.09s/it]"
     ]
    },
    {
     "name": "stdout",
     "output_type": "stream",
     "text": [
      "Generator Loss: 0.11145043265769038, Discriminator Loss: 1.3847201224100791\n",
      "sub_reconstruction: 0.04200637372115911, sub_discriminator, 0.0694440586208287\n",
      "Epoch 24\n"
     ]
    },
    {
     "name": "stderr",
     "output_type": "stream",
     "text": [
      " 24%|██▍       | 24/100 [03:49<11:06,  8.77s/it]"
     ]
    },
    {
     "name": "stdout",
     "output_type": "stream",
     "text": [
      "Generator Loss: 0.1117780406848859, Discriminator Loss: 1.384109700130204\n",
      "sub_reconstruction: 0.041911076849042356, sub_discriminator, 0.06986696348857072\n",
      "Epoch 25\n"
     ]
    },
    {
     "name": "stderr",
     "output_type": "stream",
     "text": [
      " 25%|██▌       | 25/100 [03:57<10:42,  8.57s/it]"
     ]
    },
    {
     "name": "stdout",
     "output_type": "stream",
     "text": [
      "Generator Loss: 0.11103460369473797, Discriminator Loss: 1.3843691803641238\n",
      "sub_reconstruction: 0.04165654285353119, sub_discriminator, 0.06937806043079343\n",
      "Epoch 26\n"
     ]
    },
    {
     "name": "stderr",
     "output_type": "stream",
     "text": [
      " 26%|██▌       | 26/100 [04:07<11:14,  9.11s/it]"
     ]
    },
    {
     "name": "stdout",
     "output_type": "stream",
     "text": [
      "Generator Loss: 0.1111360303426193, Discriminator Loss: 1.3854002346426755\n",
      "sub_reconstruction: 0.041261729105549344, sub_discriminator, 0.06987430111078893\n",
      "Epoch 27\n"
     ]
    },
    {
     "name": "stderr",
     "output_type": "stream",
     "text": [
      " 27%|██▋       | 27/100 [04:18<11:52,  9.76s/it]"
     ]
    },
    {
     "name": "stdout",
     "output_type": "stream",
     "text": [
      "Generator Loss: 0.11097909106036365, Discriminator Loss: 1.3849094984895092\n",
      "sub_reconstruction: 0.04110267729956215, sub_discriminator, 0.06987641391865278\n",
      "Epoch 28\n"
     ]
    },
    {
     "name": "stderr",
     "output_type": "stream",
     "text": [
      " 28%|██▊       | 28/100 [04:26<11:04,  9.23s/it]"
     ]
    },
    {
     "name": "stdout",
     "output_type": "stream",
     "text": [
      "Generator Loss: 0.11039085010603322, Discriminator Loss: 1.3845572714078225\n",
      "sub_reconstruction: 0.04090867845057431, sub_discriminator, 0.06948217168702918\n",
      "Epoch 29\n"
     ]
    },
    {
     "name": "stderr",
     "output_type": "stream",
     "text": [
      " 29%|██▉       | 29/100 [04:34<10:26,  8.83s/it]"
     ]
    },
    {
     "name": "stdout",
     "output_type": "stream",
     "text": [
      "Generator Loss: 0.1104870799739482, Discriminator Loss: 1.3843462830882962\n",
      "sub_reconstruction: 0.04059342174964436, sub_discriminator, 0.06989365809802282\n",
      "Epoch 30\n"
     ]
    },
    {
     "name": "stderr",
     "output_type": "stream",
     "text": [
      " 30%|███       | 30/100 [04:42<09:55,  8.51s/it]"
     ]
    },
    {
     "name": "stdout",
     "output_type": "stream",
     "text": [
      "Generator Loss: 0.10949913614382178, Discriminator Loss: 1.3851090972706424\n",
      "sub_reconstruction: 0.040199659796336946, sub_discriminator, 0.06929947625277406\n",
      "Epoch 31\n"
     ]
    },
    {
     "name": "stderr",
     "output_type": "stream",
     "text": [
      " 31%|███       | 31/100 [04:50<09:33,  8.31s/it]"
     ]
    },
    {
     "name": "stdout",
     "output_type": "stream",
     "text": [
      "Generator Loss: 0.11009952318617854, Discriminator Loss: 1.3845217864392168\n",
      "sub_reconstruction: 0.040146657502499676, sub_discriminator, 0.06995286546268706\n",
      "Epoch 32\n"
     ]
    },
    {
     "name": "stderr",
     "output_type": "stream",
     "text": [
      " 32%|███▏      | 32/100 [04:58<09:18,  8.21s/it]"
     ]
    },
    {
     "name": "stdout",
     "output_type": "stream",
     "text": [
      "Generator Loss: 0.10978975342744487, Discriminator Loss: 1.3848038224850672\n",
      "sub_reconstruction: 0.03990179934870389, sub_discriminator, 0.0698879543628733\n",
      "Epoch 33\n"
     ]
    },
    {
     "name": "stderr",
     "output_type": "stream",
     "text": [
      " 33%|███▎      | 33/100 [05:06<09:04,  8.12s/it]"
     ]
    },
    {
     "name": "stdout",
     "output_type": "stream",
     "text": [
      "Generator Loss: 0.10954353863657532, Discriminator Loss: 1.3850666031999104\n",
      "sub_reconstruction: 0.039832092695317026, sub_discriminator, 0.06971144587811777\n",
      "Epoch 34\n"
     ]
    },
    {
     "name": "stderr",
     "output_type": "stream",
     "text": [
      " 34%|███▍      | 34/100 [05:15<09:09,  8.32s/it]"
     ]
    },
    {
     "name": "stdout",
     "output_type": "stream",
     "text": [
      "Generator Loss: 0.10926193945993812, Discriminator Loss: 1.3844365487664432\n",
      "sub_reconstruction: 0.03971740224603879, sub_discriminator, 0.06954453708761829\n",
      "Epoch 35\n"
     ]
    },
    {
     "name": "stderr",
     "output_type": "stream",
     "text": [
      " 35%|███▌      | 35/100 [05:28<10:36,  9.80s/it]"
     ]
    },
    {
     "name": "stdout",
     "output_type": "stream",
     "text": [
      "Generator Loss: 0.10920107370968592, Discriminator Loss: 1.3848199460466029\n",
      "sub_reconstruction: 0.03959446637180902, sub_discriminator, 0.06960660705374459\n",
      "Epoch 36\n"
     ]
    },
    {
     "name": "stderr",
     "output_type": "stream",
     "text": [
      " 36%|███▌      | 36/100 [05:38<10:36,  9.94s/it]"
     ]
    },
    {
     "name": "stdout",
     "output_type": "stream",
     "text": [
      "Generator Loss: 0.1093336331137156, Discriminator Loss: 1.3834416603637953\n",
      "sub_reconstruction: 0.03928660159393892, sub_discriminator, 0.07004703183547925\n",
      "Epoch 37\n"
     ]
    },
    {
     "name": "stderr",
     "output_type": "stream",
     "text": [
      " 37%|███▋      | 37/100 [05:47<09:59,  9.52s/it]"
     ]
    },
    {
     "name": "stdout",
     "output_type": "stream",
     "text": [
      "Generator Loss: 0.10906411416954913, Discriminator Loss: 1.385448605327283\n",
      "sub_reconstruction: 0.03931890352297637, sub_discriminator, 0.06974521089913481\n",
      "Epoch 38\n"
     ]
    },
    {
     "name": "stderr",
     "output_type": "stream",
     "text": [
      " 38%|███▊      | 38/100 [05:57<09:58,  9.65s/it]"
     ]
    },
    {
     "name": "stdout",
     "output_type": "stream",
     "text": [
      "Generator Loss: 0.10850402302408622, Discriminator Loss: 1.3846534339048095\n",
      "sub_reconstruction: 0.03908665383518752, sub_discriminator, 0.06941736912575819\n",
      "Epoch 39\n"
     ]
    },
    {
     "name": "stderr",
     "output_type": "stream",
     "text": [
      " 39%|███▉      | 39/100 [06:06<09:51,  9.69s/it]"
     ]
    },
    {
     "name": "stdout",
     "output_type": "stream",
     "text": [
      "Generator Loss: 0.10855705486768383, Discriminator Loss: 1.3844029206340596\n",
      "sub_reconstruction: 0.03881174821596024, sub_discriminator, 0.06974530624131024\n",
      "Epoch 40\n"
     ]
    },
    {
     "name": "stderr",
     "output_type": "stream",
     "text": [
      " 40%|████      | 40/100 [06:14<09:11,  9.19s/it]"
     ]
    },
    {
     "name": "stdout",
     "output_type": "stream",
     "text": [
      "Generator Loss: 0.10822505289215152, Discriminator Loss: 1.3844907839419478\n",
      "sub_reconstruction: 0.03867306020426548, sub_discriminator, 0.06955199265631579\n",
      "Epoch 41\n"
     ]
    },
    {
     "name": "stderr",
     "output_type": "stream",
     "text": [
      " 41%|████      | 41/100 [06:22<08:41,  8.84s/it]"
     ]
    },
    {
     "name": "stdout",
     "output_type": "stream",
     "text": [
      "Generator Loss: 0.10839659676460897, Discriminator Loss: 1.3843121417498185\n",
      "sub_reconstruction: 0.03871710418518317, sub_discriminator, 0.06967949292669862\n",
      "Epoch 42\n"
     ]
    },
    {
     "name": "stderr",
     "output_type": "stream",
     "text": [
      " 42%|████▏     | 42/100 [06:36<09:45, 10.09s/it]"
     ]
    },
    {
     "name": "stdout",
     "output_type": "stream",
     "text": [
      "Generator Loss: 0.10804396596247867, Discriminator Loss: 1.3843041900861062\n",
      "sub_reconstruction: 0.03854475918589002, sub_discriminator, 0.06949920693443994\n",
      "Epoch 43\n"
     ]
    },
    {
     "name": "stderr",
     "output_type": "stream",
     "text": [
      " 43%|████▎     | 43/100 [06:44<09:05,  9.57s/it]"
     ]
    },
    {
     "name": "stdout",
     "output_type": "stream",
     "text": [
      "Generator Loss: 0.10815773582306959, Discriminator Loss: 1.385324939832849\n",
      "sub_reconstruction: 0.038480545630899525, sub_discriminator, 0.06967718949762441\n",
      "Epoch 44\n"
     ]
    },
    {
     "name": "stderr",
     "output_type": "stream",
     "text": [
      " 44%|████▍     | 44/100 [06:52<08:32,  9.15s/it]"
     ]
    },
    {
     "name": "stdout",
     "output_type": "stream",
     "text": [
      "Generator Loss: 0.10768641487269079, Discriminator Loss: 1.385026477150998\n",
      "sub_reconstruction: 0.038320956404431394, sub_discriminator, 0.06936545872082145\n",
      "Epoch 45\n"
     ]
    },
    {
     "name": "stderr",
     "output_type": "stream",
     "text": [
      " 45%|████▌     | 45/100 [07:01<08:23,  9.16s/it]"
     ]
    },
    {
     "name": "stdout",
     "output_type": "stream",
     "text": [
      "Generator Loss: 0.1076692157756474, Discriminator Loss: 1.3851553898746685\n",
      "sub_reconstruction: 0.038111974658854936, sub_discriminator, 0.06955724114836273\n",
      "Epoch 46\n"
     ]
    },
    {
     "name": "stderr",
     "output_type": "stream",
     "text": [
      " 46%|████▌     | 46/100 [07:09<08:00,  8.90s/it]"
     ]
    },
    {
     "name": "stdout",
     "output_type": "stream",
     "text": [
      "Generator Loss: 0.10758793455059246, Discriminator Loss: 1.3850243728039628\n",
      "sub_reconstruction: 0.03803125746800738, sub_discriminator, 0.06955667698787431\n",
      "Epoch 47\n"
     ]
    },
    {
     "name": "stderr",
     "output_type": "stream",
     "text": [
      " 47%|████▋     | 47/100 [07:18<07:38,  8.64s/it]"
     ]
    },
    {
     "name": "stdout",
     "output_type": "stream",
     "text": [
      "Generator Loss: 0.10778968093001236, Discriminator Loss: 1.3857733041553173\n",
      "sub_reconstruction: 0.038001701362052207, sub_discriminator, 0.0697879793153981\n",
      "Epoch 48\n"
     ]
    },
    {
     "name": "stderr",
     "output_type": "stream",
     "text": [
      " 48%|████▊     | 48/100 [07:25<07:15,  8.37s/it]"
     ]
    },
    {
     "name": "stdout",
     "output_type": "stream",
     "text": [
      "Generator Loss: 0.1073786152242604, Discriminator Loss: 1.385539691326982\n",
      "sub_reconstruction: 0.03782368748117301, sub_discriminator, 0.0695549273642443\n",
      "Epoch 49\n"
     ]
    },
    {
     "name": "stderr",
     "output_type": "stream",
     "text": [
      " 49%|████▉     | 49/100 [07:33<06:57,  8.19s/it]"
     ]
    },
    {
     "name": "stdout",
     "output_type": "stream",
     "text": [
      "Generator Loss: 0.10711526428743945, Discriminator Loss: 1.385413613359807\n",
      "sub_reconstruction: 0.037710237521993914, sub_discriminator, 0.06940502641817271\n",
      "Epoch 50\n"
     ]
    },
    {
     "name": "stderr",
     "output_type": "stream",
     "text": [
      " 50%|█████     | 50/100 [07:44<07:24,  8.88s/it]"
     ]
    },
    {
     "name": "stdout",
     "output_type": "stream",
     "text": [
      "Generator Loss: 0.1070366741742118, Discriminator Loss: 1.3860101891776262\n",
      "sub_reconstruction: 0.03764098295468395, sub_discriminator, 0.0693956909669658\n",
      "Epoch 51\n"
     ]
    },
    {
     "name": "stderr",
     "output_type": "stream",
     "text": [
      " 51%|█████     | 51/100 [07:52<07:07,  8.73s/it]"
     ]
    },
    {
     "name": "stdout",
     "output_type": "stream",
     "text": [
      "Generator Loss: 0.10714658589686378, Discriminator Loss: 1.3857317193079803\n",
      "sub_reconstruction: 0.037509798024923116, sub_discriminator, 0.06963678771408938\n",
      "Epoch 52\n"
     ]
    },
    {
     "name": "stderr",
     "output_type": "stream",
     "text": [
      " 52%|█████▏    | 52/100 [08:00<06:53,  8.62s/it]"
     ]
    },
    {
     "name": "stdout",
     "output_type": "stream",
     "text": [
      "Generator Loss: 0.10681608811778537, Discriminator Loss: 1.3855869365950761\n",
      "sub_reconstruction: 0.037533817623378866, sub_discriminator, 0.0692822702102742\n",
      "Epoch 53\n"
     ]
    },
    {
     "name": "stderr",
     "output_type": "stream",
     "text": [
      " 53%|█████▎    | 53/100 [08:08<06:36,  8.44s/it]"
     ]
    },
    {
     "name": "stdout",
     "output_type": "stream",
     "text": [
      "Generator Loss: 0.10666485181299307, Discriminator Loss: 1.3861460200810836\n",
      "sub_reconstruction: 0.037354981053178596, sub_discriminator, 0.06930987069667396\n",
      "Epoch 54\n"
     ]
    },
    {
     "name": "stderr",
     "output_type": "stream",
     "text": [
      " 54%|█████▍    | 54/100 [08:17<06:37,  8.64s/it]"
     ]
    },
    {
     "name": "stdout",
     "output_type": "stream",
     "text": [
      "Generator Loss: 0.106813786267224, Discriminator Loss: 1.3858343494140495\n",
      "sub_reconstruction: 0.03734366261100365, sub_discriminator, 0.06947012378250138\n",
      "Epoch 55\n"
     ]
    },
    {
     "name": "stderr",
     "output_type": "stream",
     "text": [
      " 55%|█████▌    | 55/100 [08:26<06:25,  8.57s/it]"
     ]
    },
    {
     "name": "stdout",
     "output_type": "stream",
     "text": [
      "Generator Loss: 0.10656888429391181, Discriminator Loss: 1.3860081989886397\n",
      "sub_reconstruction: 0.03716107858818466, sub_discriminator, 0.06940780611614049\n",
      "Epoch 56\n"
     ]
    },
    {
     "name": "stderr",
     "output_type": "stream",
     "text": [
      " 56%|█████▌    | 56/100 [08:38<06:58,  9.50s/it]"
     ]
    },
    {
     "name": "stdout",
     "output_type": "stream",
     "text": [
      "Generator Loss: 0.10656924192178047, Discriminator Loss: 1.3857492006431191\n",
      "sub_reconstruction: 0.037167198577169644, sub_discriminator, 0.06940204334461082\n",
      "Epoch 57\n"
     ]
    },
    {
     "name": "stderr",
     "output_type": "stream",
     "text": [
      " 57%|█████▋    | 57/100 [08:47<06:46,  9.45s/it]"
     ]
    },
    {
     "name": "stdout",
     "output_type": "stream",
     "text": [
      "Generator Loss: 0.10663823890736547, Discriminator Loss: 1.3858459339303486\n",
      "sub_reconstruction: 0.03710495671099526, sub_discriminator, 0.06953328197537842\n",
      "Epoch 58\n"
     ]
    },
    {
     "name": "stderr",
     "output_type": "stream",
     "text": [
      " 58%|█████▊    | 58/100 [08:55<06:21,  9.09s/it]"
     ]
    },
    {
     "name": "stdout",
     "output_type": "stream",
     "text": [
      "Generator Loss: 0.10661820107597415, Discriminator Loss: 1.3860948207014698\n",
      "sub_reconstruction: 0.03707792076392699, sub_discriminator, 0.06954027996477434\n",
      "Epoch 59\n"
     ]
    },
    {
     "name": "stderr",
     "output_type": "stream",
     "text": [
      " 59%|█████▉    | 59/100 [09:03<05:58,  8.74s/it]"
     ]
    },
    {
     "name": "stdout",
     "output_type": "stream",
     "text": [
      "Generator Loss: 0.10625471471477363, Discriminator Loss: 1.385625299760851\n",
      "sub_reconstruction: 0.03696628814657866, sub_discriminator, 0.06928842634720317\n",
      "Epoch 60\n"
     ]
    },
    {
     "name": "stderr",
     "output_type": "stream",
     "text": [
      " 60%|██████    | 60/100 [09:11<05:39,  8.50s/it]"
     ]
    },
    {
     "name": "stdout",
     "output_type": "stream",
     "text": [
      "Generator Loss: 0.10648407881795349, Discriminator Loss: 1.385974911309905\n",
      "sub_reconstruction: 0.0368850052483001, sub_discriminator, 0.06959907338023186\n",
      "Epoch 61\n"
     ]
    },
    {
     "name": "stderr",
     "output_type": "stream",
     "text": [
      " 61%|██████    | 61/100 [09:19<05:31,  8.49s/it]"
     ]
    },
    {
     "name": "stdout",
     "output_type": "stream",
     "text": [
      "Generator Loss: 0.10615682949201535, Discriminator Loss: 1.3856716822769681\n",
      "sub_reconstruction: 0.036805544900944676, sub_discriminator, 0.06935128443321939\n",
      "Epoch 62\n"
     ]
    },
    {
     "name": "stderr",
     "output_type": "stream",
     "text": [
      " 62%|██████▏   | 62/100 [09:27<05:17,  8.35s/it]"
     ]
    },
    {
     "name": "stdout",
     "output_type": "stream",
     "text": [
      "Generator Loss: 0.10612738277699987, Discriminator Loss: 1.385701577542192\n",
      "sub_reconstruction: 0.03668389668277765, sub_discriminator, 0.06944348599951146\n",
      "Epoch 63\n"
     ]
    },
    {
     "name": "stderr",
     "output_type": "stream",
     "text": [
      " 63%|██████▎   | 63/100 [09:36<05:09,  8.37s/it]"
     ]
    },
    {
     "name": "stdout",
     "output_type": "stream",
     "text": [
      "Generator Loss: 0.1062551503211765, Discriminator Loss: 1.3860969836429013\n",
      "sub_reconstruction: 0.0367387625373016, sub_discriminator, 0.06951638784701542\n",
      "Epoch 64\n"
     ]
    },
    {
     "name": "stderr",
     "output_type": "stream",
     "text": [
      " 64%|██████▍   | 64/100 [09:45<05:07,  8.55s/it]"
     ]
    },
    {
     "name": "stdout",
     "output_type": "stream",
     "text": [
      "Generator Loss: 0.10587449681203244, Discriminator Loss: 1.3856589390059648\n",
      "sub_reconstruction: 0.03663110909825665, sub_discriminator, 0.0692433882188999\n",
      "Epoch 65\n"
     ]
    },
    {
     "name": "stderr",
     "output_type": "stream",
     "text": [
      " 65%|██████▌   | 65/100 [09:53<04:53,  8.37s/it]"
     ]
    },
    {
     "name": "stdout",
     "output_type": "stream",
     "text": [
      "Generator Loss: 0.10608864480913696, Discriminator Loss: 1.386074354082851\n",
      "sub_reconstruction: 0.03658634439994723, sub_discriminator, 0.06950230031447896\n",
      "Epoch 66\n"
     ]
    },
    {
     "name": "stderr",
     "output_type": "stream",
     "text": [
      " 66%|██████▌   | 66/100 [10:01<04:39,  8.22s/it]"
     ]
    },
    {
     "name": "stdout",
     "output_type": "stream",
     "text": [
      "Generator Loss: 0.10583164574483693, Discriminator Loss: 1.3862207976438232\n",
      "sub_reconstruction: 0.0365393443380372, sub_discriminator, 0.06929230115423768\n",
      "Epoch 67\n"
     ]
    },
    {
     "name": "stderr",
     "output_type": "stream",
     "text": [
      " 67%|██████▋   | 67/100 [10:09<04:34,  8.31s/it]"
     ]
    },
    {
     "name": "stdout",
     "output_type": "stream",
     "text": [
      "Generator Loss: 0.10593259751291598, Discriminator Loss: 1.3860529590461215\n",
      "sub_reconstruction: 0.03650930962698944, sub_discriminator, 0.06942328779121577\n",
      "Epoch 68\n"
     ]
    },
    {
     "name": "stderr",
     "output_type": "stream",
     "text": [
      " 68%|██████▊   | 68/100 [10:18<04:29,  8.41s/it]"
     ]
    },
    {
     "name": "stdout",
     "output_type": "stream",
     "text": [
      "Generator Loss: 0.10575858358356913, Discriminator Loss: 1.3857027443788819\n",
      "sub_reconstruction: 0.036378220039404045, sub_discriminator, 0.06938036329160302\n",
      "Epoch 69\n"
     ]
    },
    {
     "name": "stderr",
     "output_type": "stream",
     "text": [
      " 69%|██████▉   | 69/100 [10:26<04:17,  8.31s/it]"
     ]
    },
    {
     "name": "stdout",
     "output_type": "stream",
     "text": [
      "Generator Loss: 0.10591130166993303, Discriminator Loss: 1.386001659651934\n",
      "sub_reconstruction: 0.03635977173887067, sub_discriminator, 0.06955152977321108\n",
      "Epoch 70\n"
     ]
    },
    {
     "name": "stderr",
     "output_type": "stream",
     "text": [
      " 70%|███████   | 70/100 [10:34<04:10,  8.34s/it]"
     ]
    },
    {
     "name": "stdout",
     "output_type": "stream",
     "text": [
      "Generator Loss: 0.10588452213649023, Discriminator Loss: 1.3857620944411069\n",
      "sub_reconstruction: 0.03629567770887229, sub_discriminator, 0.06958884455389895\n",
      "Epoch 71\n"
     ]
    },
    {
     "name": "stderr",
     "output_type": "stream",
     "text": [
      " 71%|███████   | 71/100 [10:43<04:05,  8.45s/it]"
     ]
    },
    {
     "name": "stdout",
     "output_type": "stream",
     "text": [
      "Generator Loss: 0.1057156987993394, Discriminator Loss: 1.3857532881074033\n",
      "sub_reconstruction: 0.03618025653443094, sub_discriminator, 0.06953544169664383\n",
      "Epoch 72\n"
     ]
    },
    {
     "name": "stderr",
     "output_type": "stream",
     "text": [
      " 72%|███████▏  | 72/100 [10:51<03:55,  8.40s/it]"
     ]
    },
    {
     "name": "stdout",
     "output_type": "stream",
     "text": [
      "Generator Loss: 0.1054883029753879, Discriminator Loss: 1.3861260050434177\n",
      "sub_reconstruction: 0.03620037704832473, sub_discriminator, 0.06928792589549292\n",
      "Epoch 73\n"
     ]
    },
    {
     "name": "stderr",
     "output_type": "stream",
     "text": [
      " 73%|███████▎  | 73/100 [10:59<03:44,  8.32s/it]"
     ]
    },
    {
     "name": "stdout",
     "output_type": "stream",
     "text": [
      "Generator Loss: 0.10570672773203607, Discriminator Loss: 1.38585129733813\n",
      "sub_reconstruction: 0.03619471324955003, sub_discriminator, 0.06951201448248605\n",
      "Epoch 74\n"
     ]
    },
    {
     "name": "stderr",
     "output_type": "stream",
     "text": [
      " 74%|███████▍  | 74/100 [11:07<03:33,  8.22s/it]"
     ]
    },
    {
     "name": "stdout",
     "output_type": "stream",
     "text": [
      "Generator Loss: 0.10531856271169954, Discriminator Loss: 1.3861632256184595\n",
      "sub_reconstruction: 0.03614212329483638, sub_discriminator, 0.06917643938529289\n",
      "Epoch 75\n"
     ]
    },
    {
     "name": "stderr",
     "output_type": "stream",
     "text": [
      " 75%|███████▌  | 75/100 [11:16<03:26,  8.24s/it]"
     ]
    },
    {
     "name": "stdout",
     "output_type": "stream",
     "text": [
      "Generator Loss: 0.10543741847751505, Discriminator Loss: 1.385931946463504\n",
      "sub_reconstruction: 0.036045218896815334, sub_discriminator, 0.06939219948598895\n",
      "Epoch 76\n"
     ]
    },
    {
     "name": "stderr",
     "output_type": "stream",
     "text": [
      " 76%|███████▌  | 76/100 [11:25<03:21,  8.41s/it]"
     ]
    },
    {
     "name": "stdout",
     "output_type": "stream",
     "text": [
      "Generator Loss: 0.10560677901415502, Discriminator Loss: 1.38573126065529\n",
      "sub_reconstruction: 0.03609588634917291, sub_discriminator, 0.06951089298068466\n",
      "Epoch 77\n"
     ]
    },
    {
     "name": "stderr",
     "output_type": "stream",
     "text": [
      " 77%|███████▋  | 77/100 [11:33<03:13,  8.41s/it]"
     ]
    },
    {
     "name": "stdout",
     "output_type": "stream",
     "text": [
      "Generator Loss: 0.1052057222163273, Discriminator Loss: 1.3863396654694766\n",
      "sub_reconstruction: 0.03605670829193067, sub_discriminator, 0.06914901379811561\n",
      "Epoch 78\n"
     ]
    },
    {
     "name": "stderr",
     "output_type": "stream",
     "text": [
      " 78%|███████▊  | 78/100 [11:41<03:02,  8.30s/it]"
     ]
    },
    {
     "name": "stdout",
     "output_type": "stream",
     "text": [
      "Generator Loss: 0.10542919625670223, Discriminator Loss: 1.3858587509494718\n",
      "sub_reconstruction: 0.0359750737957025, sub_discriminator, 0.06945412252414024\n",
      "Epoch 79\n"
     ]
    },
    {
     "name": "stderr",
     "output_type": "stream",
     "text": [
      " 79%|███████▉  | 79/100 [11:50<02:57,  8.44s/it]"
     ]
    },
    {
     "name": "stdout",
     "output_type": "stream",
     "text": [
      "Generator Loss: 0.10543816303045063, Discriminator Loss: 1.3858034337981273\n",
      "sub_reconstruction: 0.0359322642749649, sub_discriminator, 0.06950589881862625\n",
      "Epoch 80\n"
     ]
    },
    {
     "name": "stderr",
     "output_type": "stream",
     "text": [
      " 80%|████████  | 80/100 [11:59<02:51,  8.60s/it]"
     ]
    },
    {
     "name": "stdout",
     "output_type": "stream",
     "text": [
      "Generator Loss: 0.1053080281590001, Discriminator Loss: 1.386065768993507\n",
      "sub_reconstruction: 0.03595781572541948, sub_discriminator, 0.06935021243358062\n",
      "Epoch 81\n"
     ]
    },
    {
     "name": "stderr",
     "output_type": "stream",
     "text": [
      " 81%|████████  | 81/100 [12:08<02:47,  8.82s/it]"
     ]
    },
    {
     "name": "stdout",
     "output_type": "stream",
     "text": [
      "Generator Loss: 0.10532618440308814, Discriminator Loss: 1.3858393137737857\n",
      "sub_reconstruction: 0.035930444628505386, sub_discriminator, 0.06939574015342583\n",
      "Epoch 82\n"
     ]
    },
    {
     "name": "stderr",
     "output_type": "stream",
     "text": [
      " 82%|████████▏ | 82/100 [12:18<02:45,  9.20s/it]"
     ]
    },
    {
     "name": "stdout",
     "output_type": "stream",
     "text": [
      "Generator Loss: 0.10542517490053581, Discriminator Loss: 1.3861700508554102\n",
      "sub_reconstruction: 0.03585443689914073, sub_discriminator, 0.06957073825395714\n",
      "Epoch 83\n"
     ]
    },
    {
     "name": "stderr",
     "output_type": "stream",
     "text": [
      " 83%|████████▎ | 83/100 [12:31<02:57, 10.42s/it]"
     ]
    },
    {
     "name": "stdout",
     "output_type": "stream",
     "text": [
      "Generator Loss: 0.10509685161760297, Discriminator Loss: 1.3860618855993627\n",
      "sub_reconstruction: 0.03575584014593545, sub_discriminator, 0.06934101140852701\n",
      "Epoch 84\n"
     ]
    },
    {
     "name": "stderr",
     "output_type": "stream",
     "text": [
      " 84%|████████▍ | 84/100 [12:41<02:44, 10.29s/it]"
     ]
    },
    {
     "name": "stdout",
     "output_type": "stream",
     "text": [
      "Generator Loss: 0.10509377604318877, Discriminator Loss: 1.3857353359965954\n",
      "sub_reconstruction: 0.03568424792739294, sub_discriminator, 0.06940952827364712\n",
      "Epoch 85\n"
     ]
    },
    {
     "name": "stderr",
     "output_type": "stream",
     "text": [
      " 85%|████████▌ | 85/100 [12:51<02:29,  9.96s/it]"
     ]
    },
    {
     "name": "stdout",
     "output_type": "stream",
     "text": [
      "Generator Loss: 0.10509053996558916, Discriminator Loss: 1.3860179448531846\n",
      "sub_reconstruction: 0.035726589482214494, sub_discriminator, 0.06936395060965571\n",
      "Epoch 86\n"
     ]
    },
    {
     "name": "stderr",
     "output_type": "stream",
     "text": [
      " 86%|████████▌ | 86/100 [13:00<02:15,  9.67s/it]"
     ]
    },
    {
     "name": "stdout",
     "output_type": "stream",
     "text": [
      "Generator Loss: 0.10516827307262663, Discriminator Loss: 1.385884482981795\n",
      "sub_reconstruction: 0.03567448731953815, sub_discriminator, 0.06949378550052643\n",
      "Epoch 87\n"
     ]
    },
    {
     "name": "stderr",
     "output_type": "stream",
     "text": [
      " 87%|████████▋ | 87/100 [13:09<02:05,  9.65s/it]"
     ]
    },
    {
     "name": "stdout",
     "output_type": "stream",
     "text": [
      "Generator Loss: 0.10501364637481964, Discriminator Loss: 1.3858755554183055\n",
      "sub_reconstruction: 0.0356968706947262, sub_discriminator, 0.06931677568009344\n",
      "Epoch 88\n"
     ]
    },
    {
     "name": "stderr",
     "output_type": "stream",
     "text": [
      " 88%|████████▊ | 88/100 [13:19<01:55,  9.63s/it]"
     ]
    },
    {
     "name": "stdout",
     "output_type": "stream",
     "text": [
      "Generator Loss: 0.10507929804971662, Discriminator Loss: 1.3859887981818895\n",
      "sub_reconstruction: 0.03565680103029235, sub_discriminator, 0.06942249714570531\n",
      "Epoch 89\n"
     ]
    },
    {
     "name": "stderr",
     "output_type": "stream",
     "text": [
      " 89%|████████▉ | 89/100 [13:29<01:47,  9.80s/it]"
     ]
    },
    {
     "name": "stdout",
     "output_type": "stream",
     "text": [
      "Generator Loss: 0.10497286499051725, Discriminator Loss: 1.3861381209502786\n",
      "sub_reconstruction: 0.03563243977851787, sub_discriminator, 0.06934042521199937\n",
      "Epoch 90\n"
     ]
    },
    {
     "name": "stderr",
     "output_type": "stream",
     "text": [
      " 90%|█████████ | 90/100 [13:39<01:38,  9.81s/it]"
     ]
    },
    {
     "name": "stdout",
     "output_type": "stream",
     "text": [
      "Generator Loss: 0.10506056021835844, Discriminator Loss: 1.3859427722833924\n",
      "sub_reconstruction: 0.03556004668570171, sub_discriminator, 0.06950051318538392\n",
      "Epoch 91\n"
     ]
    },
    {
     "name": "stderr",
     "output_type": "stream",
     "text": [
      " 91%|█████████ | 91/100 [13:49<01:29,  9.90s/it]"
     ]
    },
    {
     "name": "stdout",
     "output_type": "stream",
     "text": [
      "Generator Loss: 0.10495232841220953, Discriminator Loss: 1.3858922457290908\n",
      "sub_reconstruction: 0.035568689643326455, sub_discriminator, 0.06938363902144513\n",
      "Epoch 92\n"
     ]
    },
    {
     "name": "stderr",
     "output_type": "stream",
     "text": [
      " 92%|█████████▏| 92/100 [13:58<01:18,  9.80s/it]"
     ]
    },
    {
     "name": "stdout",
     "output_type": "stream",
     "text": [
      "Generator Loss: 0.1049081368087712, Discriminator Loss: 1.3858247803429427\n",
      "sub_reconstruction: 0.035539413439267774, sub_discriminator, 0.06936872327479265\n",
      "Epoch 93\n"
     ]
    },
    {
     "name": "stderr",
     "output_type": "stream",
     "text": [
      " 93%|█████████▎| 93/100 [14:07<01:06,  9.52s/it]"
     ]
    },
    {
     "name": "stdout",
     "output_type": "stream",
     "text": [
      "Generator Loss: 0.10482182328478765, Discriminator Loss: 1.3861383209794254\n",
      "sub_reconstruction: 0.03543058978551525, sub_discriminator, 0.06939123337299137\n",
      "Epoch 94\n"
     ]
    },
    {
     "name": "stderr",
     "output_type": "stream",
     "text": [
      " 94%|█████████▍| 94/100 [14:16<00:55,  9.32s/it]"
     ]
    },
    {
     "name": "stdout",
     "output_type": "stream",
     "text": [
      "Generator Loss: 0.1046633509508634, Discriminator Loss: 1.3860283271741058\n",
      "sub_reconstruction: 0.03539225275991326, sub_discriminator, 0.06927109875921476\n",
      "Epoch 95\n"
     ]
    },
    {
     "name": "stderr",
     "output_type": "stream",
     "text": [
      " 95%|█████████▌| 95/100 [14:25<00:45,  9.17s/it]"
     ]
    },
    {
     "name": "stdout",
     "output_type": "stream",
     "text": [
      "Generator Loss: 0.10478160561899007, Discriminator Loss: 1.3859798130342516\n",
      "sub_reconstruction: 0.035389696484652615, sub_discriminator, 0.06939190903962669\n",
      "Epoch 96\n"
     ]
    },
    {
     "name": "stderr",
     "output_type": "stream",
     "text": [
      " 96%|█████████▌| 96/100 [14:34<00:36,  9.04s/it]"
     ]
    },
    {
     "name": "stdout",
     "output_type": "stream",
     "text": [
      "Generator Loss: 0.1047275591704805, Discriminator Loss: 1.3860669641171472\n",
      "sub_reconstruction: 0.03533400143733469, sub_discriminator, 0.06939355782785658\n",
      "Epoch 97\n"
     ]
    },
    {
     "name": "stderr",
     "output_type": "stream",
     "text": [
      " 97%|█████████▋| 97/100 [14:42<00:26,  8.70s/it]"
     ]
    },
    {
     "name": "stdout",
     "output_type": "stream",
     "text": [
      "Generator Loss: 0.10458407304802184, Discriminator Loss: 1.3859979894201635\n",
      "sub_reconstruction: 0.035249210546835, sub_discriminator, 0.06933486278531915\n",
      "Epoch 98\n"
     ]
    },
    {
     "name": "stderr",
     "output_type": "stream",
     "text": [
      " 98%|█████████▊| 98/100 [14:49<00:16,  8.39s/it]"
     ]
    },
    {
     "name": "stdout",
     "output_type": "stream",
     "text": [
      "Generator Loss: 0.10478679122308553, Discriminator Loss: 1.385842231370635\n",
      "sub_reconstruction: 0.03533113883587263, sub_discriminator, 0.0694556521662211\n",
      "Epoch 99\n"
     ]
    },
    {
     "name": "stderr",
     "output_type": "stream",
     "text": [
      " 99%|█████████▉| 99/100 [14:57<00:08,  8.30s/it]"
     ]
    },
    {
     "name": "stdout",
     "output_type": "stream",
     "text": [
      "Generator Loss: 0.10481184910414583, Discriminator Loss: 1.3860768726316548\n",
      "sub_reconstruction: 0.0353826413215217, sub_discriminator, 0.06942920778262412\n",
      "Epoch 100\n"
     ]
    },
    {
     "name": "stderr",
     "output_type": "stream",
     "text": [
      "100%|██████████| 100/100 [15:05<00:00,  9.06s/it]"
     ]
    },
    {
     "name": "stdout",
     "output_type": "stream",
     "text": [
      "Generator Loss: 0.10472365803385185, Discriminator Loss: 1.3861112220812652\n",
      "sub_reconstruction: 0.03531630949701293, sub_discriminator, 0.06940734866311994\n"
     ]
    },
    {
     "name": "stderr",
     "output_type": "stream",
     "text": [
      "\n"
     ]
    }
   ],
   "source": [
    "for epoch in trange(epochs):\n",
    "    print(f\"Epoch {epoch+1}\")\n",
    "    generator_total = 0\n",
    "    discriminator_total = 0\n",
    "    sub_reconstruction = 0\n",
    "    sub_discriminator = 0\n",
    "    for batch_features, batch_labels in train_loader:\n",
    "\n",
    "        # Resize batch_features\n",
    "        batch_features = batch_features.view(-1, 784).to(device)\n",
    "        size = batch_features.size()[0]\n",
    "\n",
    "        ########### TRAIN GENERATOR ###########\n",
    "\n",
    "        # Reset the gradients back to zero\n",
    "        generator.zero_grad()\n",
    "\n",
    "        # Freeze the discriminator\n",
    "        discriminator.eval()\n",
    "        scripted_model = torch.jit.script(discriminator)\n",
    "        frozen_discriminator = torch.jit.freeze(scripted_model)\n",
    "\n",
    "        # Run examples through generator\n",
    "        encoded, reconstructed = generator(batch_features)\n",
    "\n",
    "        # Compute reconstruction loss\n",
    "        reconstruction_loss = generator_loss_function(reconstructed, batch_features)\n",
    "\n",
    "        # Compute discriminator loss\n",
    "        validity = frozen_discriminator(encoded)\n",
    "        discriminator_loss = discriminator_loss_function(validity, valid(size))\n",
    "        discriminator_loss = discriminator_loss * discriminator_multiplier\n",
    "\n",
    "        # Sum loss\n",
    "        generator_loss = reconstruction_loss + discriminator_loss\n",
    "\n",
    "        # Backwards loss and step optimizer\n",
    "        generator_loss.backward()\n",
    "        generator_optimizer.step()\n",
    "\n",
    "        # Add minibatch to epoch_loss\n",
    "        generator_total += generator_loss.item()\n",
    "        sub_reconstruction += reconstruction_loss.item()\n",
    "        sub_discriminator += discriminator_loss.item()\n",
    "\n",
    "        ######### TRAIN DISCRIMINATOR #########\n",
    "\n",
    "        # Reset the gradients back to zero\n",
    "        discriminator.zero_grad()\n",
    "\n",
    "        # Freeze the encoder\n",
    "        generator.encoder.eval()\n",
    "        scripted_model = torch.jit.script(generator.encoder)\n",
    "        frozen_encoder = torch.jit.freeze(scripted_model)   \n",
    "\n",
    "        # Get a fake discribution from the frozen_generator\n",
    "        fake_distribution = frozen_encoder(batch_features)\n",
    "\n",
    "        # Calculate loss from fake discributions\n",
    "        validity = discriminator(fake_distribution)\n",
    "        fake_loss = discriminator_loss_function(validity, invalid(size))\n",
    "\n",
    "        # Calculate loss from real discributions\n",
    "        validity = discriminator(real_distribution(size))\n",
    "        real_loss = discriminator_loss_function(validity, valid(size))\n",
    "\n",
    "        # Sum loss\n",
    "        discriminator_loss = real_loss + fake_loss\n",
    "\n",
    "        # Backwards loss and step optimizer\n",
    "        discriminator_loss.backward()\n",
    "        discriminator_optimizer.step()\n",
    "\n",
    "        # Add minibatch to epoch loss\n",
    "        discriminator_total += discriminator_loss.item()\n",
    "    \n",
    "    # Calculate total loss\n",
    "    generator_total = generator_total / len(train_loader)\n",
    "    discriminator_total = discriminator_total / len(train_loader)\n",
    "    sub_reconstruction = sub_reconstruction / len(train_loader)\n",
    "    sub_discriminator = sub_discriminator / len(train_loader)\n",
    "    print(f\"Generator Loss: {generator_total}, Discriminator Loss: {discriminator_total}\")\n",
    "    print(f\"sub_reconstruction: {sub_reconstruction}, sub_discriminator, {sub_discriminator}\")\n",
    "\n",
    "# Save models\n",
    "torch.save(generator, '7-14_generator.pt')\n",
    "torch.save(discriminator, '7-14_discriminator.pt')"
   ]
  },
  {
   "cell_type": "code",
   "execution_count": 12,
   "metadata": {},
   "outputs": [],
   "source": [
    "# Load model\n",
    "model = torch.load('7-14_generator.pt')"
   ]
  },
  {
   "cell_type": "code",
   "execution_count": 13,
   "metadata": {},
   "outputs": [
    {
     "name": "stdout",
     "output_type": "stream",
     "text": [
      "<class 'torch.Tensor'>\n"
     ]
    },
    {
     "data": {
      "image/png": "[encoded data removed]",
      "text/plain": [
       "<Figure size 432x288 with 1 Axes>"
      ]
     },
     "metadata": {
      "needs_background": "light"
     },
     "output_type": "display_data"
    }
   ],
   "source": [
    "# Display the first image in test_dataset\n",
    "import matplotlib.pyplot as plt\n",
    "import numpy as np\n",
    "\n",
    "\n",
    "def display_image(image):\n",
    "    image = image.numpy()\n",
    "    image = np.transpose(image, (1, 2, 0))\n",
    "    plt.imshow(image)\n",
    "    plt.show()\n",
    "\n",
    "\n",
    "image = test_dataset[0][0]\n",
    "print(type(image))\n",
    "display_image(image)"
   ]
  },
  {
   "cell_type": "code",
   "execution_count": 14,
   "metadata": {},
   "outputs": [],
   "source": [
    "import random\n",
    "\n",
    "\n",
    "def random_image():\n",
    "    example = test_dataset[random.randint(0, len(test_dataset)-1)][0]\n",
    "    #display_image(example)\n",
    "    encoded, result = model(example.view(1, input_dim))\n",
    "    result = result.detach().view(1, 28, 28)\n",
    "    #display_image(result)\n",
    "    return encoded"
   ]
  },
  {
   "cell_type": "code",
   "execution_count": 15,
   "metadata": {},
   "outputs": [
    {
     "data": {
      "text/plain": [
       "tensor([[-0.1217, -3.7919]], grad_fn=<AddmmBackward0>)"
      ]
     },
     "execution_count": 15,
     "metadata": {},
     "output_type": "execute_result"
    }
   ],
   "source": [
    "random_image()"
   ]
  },
  {
   "cell_type": "code",
   "execution_count": 16,
   "metadata": {},
   "outputs": [
    {
     "name": "stdout",
     "output_type": "stream",
     "text": [
      "tensor([[ 0.0294, -1.6692]], grad_fn=<DivBackward0>)\n"
     ]
    },
    {
     "data": {
      "image/png": "[encoded data removed]",
      "text/plain": [
       "<Figure size 432x288 with 1 Axes>"
      ]
     },
     "metadata": {
      "needs_background": "light"
     },
     "output_type": "display_data"
    }
   ],
   "source": [
    "# See if the latent space is smooth by generating midpoints between known data\n",
    "img1 = random_image()\n",
    "img2 = random_image()\n",
    "\n",
    "# Find the average of the two results\n",
    "result = (img1 + img2) / 2\n",
    "print(result)\n",
    "# Run result through the decoder and display the result\n",
    "result = model.decoder(result)\n",
    "result = result.detach()\n",
    "result = result.view(1, 28, 28)\n",
    "result = result\n",
    "display_image(result)"
   ]
  },
  {
   "cell_type": "code",
   "execution_count": 17,
   "metadata": {},
   "outputs": [
    {
     "data": {
      "image/png": "[encoded data removed]",
      "text/plain": [
       "<Figure size 432x288 with 1 Axes>"
      ]
     },
     "metadata": {
      "needs_background": "light"
     },
     "output_type": "display_data"
    }
   ],
   "source": [
    "# View a pre-determined point in latent space\n",
    "result = model.decoder(torch.tensor([[2.0, -2.0]]))\n",
    "result = result.detach().view(1, 28, 28)\n",
    "display_image(result)"
   ]
  },
  {
   "cell_type": "code",
   "execution_count": 19,
   "metadata": {},
   "outputs": [
    {
     "data": {
      "image/png": "[encoded data removed]",
      "text/plain": [
       "<Figure size 576x576 with 200 Axes>"
      ]
     },
     "metadata": {
      "needs_background": "light"
     },
     "output_type": "display_data"
    }
   ],
   "source": [
    "import matplotlib.pyplot as plt\n",
    "from mpl_toolkits.axes_grid1 import ImageGrid\n",
    "import numpy as np\n",
    "\n",
    "# Displays a 2d representation of the latent space\n",
    "# The middle represents (0,0)\n",
    "step = 10\n",
    "size = 1\n",
    "images = []\n",
    "for i in range(step):\n",
    "    for j in range(step):\n",
    "        x = -size + i * (size*2)/(step-1)\n",
    "        y = size - j * (size*2)/(step-1)\n",
    "        result = model.decoder(torch.tensor([[x, y]]))\n",
    "        result = result.detach().view(28,28)\n",
    "        images.append(result)\n",
    "        #print(x, y)\n",
    "\n",
    "fig = plt.figure(figsize=(8., 8.))\n",
    "grid = ImageGrid(fig, 111, \n",
    "                 nrows_ncols=(step, step),\n",
    "                 axes_pad=0.1,\n",
    "                 )\n",
    "\n",
    "for ax, im in zip(grid, images):\n",
    "    # Iterating over the grid returns the Axes.\n",
    "    ax.imshow(im)\n",
    "\n",
    "plt.show()"
   ]
  }
 ],
 "metadata": {
  "kernelspec": {
   "display_name": "Python 3.10.5 64-bit",
   "language": "python",
   "name": "python3"
  },
  "language_info": {
   "codemirror_mode": {
    "name": "ipython",
    "version": 3
   },
   "file_extension": ".py",
   "mimetype": "text/x-python",
   "name": "python",
   "nbconvert_exporter": "python",
   "pygments_lexer": "ipython3",
   "version": "3.10.5"
  },
  "orig_nbformat": 4,
  "vscode": {
   "interpreter": {
    "hash": "aee8b7b246df8f9039afb4144a1f6fd8d2ca17a180786b69acc140d282b71a49"
   }
  }
 },
 "nbformat": 4,
 "nbformat_minor": 2
}
